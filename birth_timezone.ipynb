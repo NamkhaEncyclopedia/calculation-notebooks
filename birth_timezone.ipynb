{
 "cells": [
  {
   "cell_type": "markdown",
   "id": "a5c9668a-8d92-4a6a-940e-c8d20f4ba3e2",
   "metadata": {
    "editable": true,
    "slideshow": {
     "slide_type": ""
    },
    "tags": []
   },
   "source": [
    "# Birth time zone\n",
    "\n",
    "When it comes to astrological calculations, having the exact time of an event, like a person's birth, is often necessary. We typically use **Universal Coordinated Time** (UTC), which is essentially the same as Greenwich Mean Time (GMT). But sometimes people can only provide their **local time**, and they might not be certain about the timezone or whether daylight saving time (DST) was in effect. This uncertainty makes it impossible to determine the exact offset from UTC.\n",
    "\n",
    "By obtaining the geographical coordinates of the event, we can identify the corresponding timezone. But simply knowing the current timezone for a given location isn't enough because timezones and DST regulations can change over time. To address this, we use the [IANA time zone database](https://en.wikipedia.org/wiki/Tz_database), an open database that tracks worldwide timezone changes since 1970, and to some extent before that year.\n",
    "\n",
    "To leverage this database in Python, we use the [`pytz` library](https://github.com/stub42/pytz) in conjunction with the [`timezonefinder` library](https://github.com/jannikmi/timezonefinder), which helps to derive the time region based on geographical coordinates.\n"
   ]
  },
  {
   "cell_type": "code",
   "execution_count": null,
   "id": "b0045391-74b4-4ac7-8490-1625dee82d33",
   "metadata": {},
   "outputs": [],
   "source": [
    "%conda install pytz timezonefinder"
   ]
  },
  {
   "cell_type": "code",
   "execution_count": 1,
   "id": "43203acf-307c-45cc-a368-b77bc6521e0f",
   "metadata": {},
   "outputs": [],
   "source": [
    "from datetime import datetime\n",
    "\n",
    "import pytz\n",
    "from timezonefinder import TimezoneFinder"
   ]
  },
  {
   "cell_type": "code",
   "execution_count": 2,
   "id": "e8c8a770-d115-4aac-93d3-0561479dc699",
   "metadata": {},
   "outputs": [],
   "source": [
    "def get_utc_offset(lat: float, lng: float, local_datetime: str) -> int:\n",
    "    timezone = TimezoneFinder().timezone_at(lat=lat, lng=lng)\n",
    "    pytz_timezone = pytz.timezone(timezone)\n",
    "    datetime_with_tzinfo = pytz_timezone.localize(datetime.fromisoformat(local_datetime))\n",
    "    \n",
    "    return int(datetime_with_tzinfo.utcoffset().total_seconds())"
   ]
  },
  {
   "cell_type": "markdown",
   "id": "c6a01f3a-088f-47bb-9f0c-ca63068076db",
   "metadata": {},
   "source": [
    "In this example we can see one hour difference in UTC offset for São Paulo, Brazil during the winter of 2023 compared to 2018 due to changes in DST regulations:"
   ]
  },
  {
   "cell_type": "code",
   "execution_count": 13,
   "id": "aead474e-aa64-4481-9b84-1d465765c2ed",
   "metadata": {},
   "outputs": [],
   "source": [
    "sao_paulo_coodinates = (-23.5475, -46.63611)"
   ]
  },
  {
   "cell_type": "code",
   "execution_count": 18,
   "id": "6f8ef6a7-ebff-49c5-944b-43580dac52d0",
   "metadata": {},
   "outputs": [
    {
     "data": {
      "text/plain": [
       "-3.0"
      ]
     },
     "execution_count": 18,
     "metadata": {},
     "output_type": "execute_result"
    }
   ],
   "source": [
    "get_utc_offset(*sao_paulo_coodinates, \"2023-02-15T00:00:00\")/60/60 # hours"
   ]
  },
  {
   "cell_type": "code",
   "execution_count": 19,
   "id": "04af6e13-5607-4ec2-9f18-6fff6acc7c86",
   "metadata": {},
   "outputs": [
    {
     "data": {
      "text/plain": [
       "-2.0"
      ]
     },
     "execution_count": 19,
     "metadata": {},
     "output_type": "execute_result"
    }
   ],
   "source": [
    "get_utc_offset(*sao_paulo_coodinates, \"2018-02-15T00:00:00\")/60/60 # hours"
   ]
  }
 ],
 "metadata": {
  "kernelspec": {
   "display_name": "Python 3 (ipykernel)",
   "language": "python",
   "name": "python3"
  },
  "language_info": {
   "codemirror_mode": {
    "name": "ipython",
    "version": 3
   },
   "file_extension": ".py",
   "mimetype": "text/x-python",
   "name": "python",
   "nbconvert_exporter": "python",
   "pygments_lexer": "ipython3",
   "version": "3.11.4"
  }
 },
 "nbformat": 4,
 "nbformat_minor": 5
}
